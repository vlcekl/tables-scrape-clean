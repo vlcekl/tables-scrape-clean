{
 "cells": [
  {
   "cell_type": "code",
   "execution_count": 6,
   "id": "f2c9bfde-bc51-4ae2-a964-34634eb01ba5",
   "metadata": {},
   "outputs": [],
   "source": [
    "import pandas as pd\n",
    "from rdkit import Chem\n",
    "from rdkit.Chem import Descriptors, rdMolDescriptors, AllChem\n",
    "from rdkit.Chem.Draw import rdDepictor, IPythonConsole\n",
    "rdDepictor.SetPreferCoordGen(True)\n",
    "IPythonConsole.molSize = (350,350)"
   ]
  },
  {
   "cell_type": "code",
   "execution_count": 7,
   "id": "9879fca1-aa98-49a6-8355-9552376272ab",
   "metadata": {},
   "outputs": [
    {
     "data": {
      "text/plain": [
       "{'2-Butanol (R)': <rdkit.Chem.rdchem.Mol at 0x7fade6b644a0>,\n",
       " 'Lactic acid (L)': <rdkit.Chem.rdchem.Mol at 0x7fade6b64350>,\n",
       " '1-Phenylethanol (R)': <rdkit.Chem.rdchem.Mol at 0x7fade6b64190>,\n",
       " 'Alanine (L)': <rdkit.Chem.rdchem.Mol at 0x7fade6b64510>}"
      ]
     },
     "execution_count": 7,
     "metadata": {},
     "output_type": "execute_result"
    }
   ],
   "source": [
    "# Define example chiral molecules (SMILES with stereochemistry @)\n",
    "smiles_list = {\n",
    "    \"2-Butanol (R)\"      : \"C[C@H](O)CC\",\n",
    "    \"Lactic acid (L)\"    : \"C[C@H](O)C(=O)O\",\n",
    "    \"1-Phenylethanol (R)\":\"C[C@H](O)c1ccccc1\",\n",
    "    \"Alanine (L)\"        : \"C[C@H](N)C(=O)O\",\n",
    "}\n",
    "molecules = {name: Chem.MolFromSmiles(sm) for name, sm in smiles_list.items()}\n",
    "molecules"
   ]
  },
  {
   "cell_type": "code",
   "execution_count": null,
   "id": "77a97778-2e37-4b7e-99aa-418ba9b70e6a",
   "metadata": {},
   "outputs": [],
   "source": []
  },
  {
   "cell_type": "code",
   "execution_count": 8,
   "id": "9b899192-4fb5-4e2b-b1ed-8fa118506d18",
   "metadata": {},
   "outputs": [
    {
     "name": "stdout",
     "output_type": "stream",
     "text": [
      "               Name   MolWt    LogP  TPSA  HDonors  HAcceptors  RotBonds  AromRings  StereoCtr  RadiusGyr\n",
      "      2-Butanol (R)  74.123  0.7772 20.23        1           1         1          0          1   1.638437\n",
      "    Lactic acid (L)  90.078 -0.5482 57.53        2           2         1          0          1   1.647185\n",
      "1-Phenylethanol (R) 122.167  1.7399 20.23        1           1         1          1          1   2.143548\n",
      "        Alanine (L)  89.094 -0.5818 63.32        2           2         1          0          1   1.677471\n"
     ]
    }
   ],
   "source": [
    "# Compute descriptors\n",
    "data = []\n",
    "for name, mol in molecules.items():\n",
    "    desc = {\n",
    "        \"Name\": name,\n",
    "        \"MolWt\": Descriptors.MolWt(mol),\n",
    "        \"LogP\": Descriptors.MolLogP(mol),\n",
    "        \"TPSA\": Descriptors.TPSA(mol),\n",
    "        \"HDonors\": Descriptors.NumHDonors(mol),\n",
    "        \"HAcceptors\": Descriptors.NumHAcceptors(mol),\n",
    "        \"RotBonds\": Descriptors.NumRotatableBonds(mol),\n",
    "        \"AromRings\": Descriptors.NumAromaticRings(mol),\n",
    "        \"StereoCtr\": rdMolDescriptors.CalcNumAtomStereoCenters(mol)\n",
    "    }\n",
    "    # Generate a 3D conformer and compute radius of gyration\n",
    "    mol3d = Chem.AddHs(mol)\n",
    "    AllChem.EmbedMolecule(mol3d, randomSeed=1)\n",
    "    AllChem.UFFOptimizeMolecule(mol3d)\n",
    "    conf = mol3d.GetConformer()\n",
    "    desc[\"RadiusGyr\"] = rdMolDescriptors.CalcRadiusOfGyration(mol3d, confId=conf.GetId())\n",
    "    data.append(desc)\n",
    "\n",
    "df = pd.DataFrame(data)\n",
    "print(df.to_string(index=False))"
   ]
  },
  {
   "cell_type": "code",
   "execution_count": null,
   "id": "5d70477d-d5cd-40a0-8860-ac45c717e060",
   "metadata": {},
   "outputs": [],
   "source": []
  },
  {
   "cell_type": "code",
   "execution_count": null,
   "id": "7df6f3d2-d64f-43c4-8996-f7587e98917f",
   "metadata": {},
   "outputs": [],
   "source": []
  },
  {
   "cell_type": "code",
   "execution_count": 4,
   "id": "f95d1c44-0810-457b-97b1-79e62dbcd90a",
   "metadata": {},
   "outputs": [],
   "source": [
    "#!/usr/bin/env python3\n",
    "\"\"\"\n",
    "Example: Generate chiral-sensitive descriptors for enantiomers\n",
    "using RDKit + pymolPy3 + PyDescriptorC*.\n",
    "\"\"\"\n",
    "\n",
    "import os\n",
    "import sys\n",
    "import pandas as pd\n",
    "from rdkit import Chem\n",
    "from rdkit.Chem import AllChem, Descriptors\n",
    "\n",
    "# --- 1. Generate 3D conformers and write MOL2 files with RDKit ---\n",
    "\n",
    "def embed_and_write_mol2(smiles: str, name: str, out_dir: str) -> str:\n",
    "    \"\"\"\n",
    "    Embed, optimize, and write a single-conformer MOL2 file.\n",
    "    Returns the path to the written MOL2.\n",
    "    \"\"\"\n",
    "    # Create RDKit molecule and add hydrogens\n",
    "    mol = Chem.AddHs(Chem.MolFromSmiles(smiles))\n",
    "    # Embed using ETKDG and optimize with UFF\n",
    "    AllChem.EmbedMolecule(mol, AllChem.ETKDG())           # :contentReference[oaicite:3]{index=3}\n",
    "    AllChem.UFFOptimizeMolecule(mol)                      # :contentReference[oaicite:4]{index=4}\n",
    "    # Convert to MOL2 block\n",
    "    mol2_block = Chem.MolToMolBlock(mol)                  # :contentReference[oaicite:5]{index=5}\n",
    "    # Write out\n",
    "    mol2_path = os.path.join(out_dir, f\"{name}.mol2\")\n",
    "    with open(mol2_path, 'w') as f:\n",
    "        f.write(mol2_block)\n",
    "    return mol2_path\n",
    "\n",
    "# Define enantiomers\n",
    "enantiomers = {\n",
    "    \"R_1PE\": \"C[C@H](O)c1ccccc1\",     # R-1-Phenylethanol\n",
    "    \"S_1PE\": \"C[C@@H](O)c1ccccc1\",    # S-1-Phenylethanol\n",
    "}\n",
    "\n",
    "# Prepare output directory\n",
    "out_dir = \"mol2_files\"\n",
    "os.makedirs(out_dir, exist_ok=True)\n",
    "\n",
    "mol2_paths = {name: embed_and_write_mol2(smi, name, out_dir)\n",
    "              for name, smi in enantiomers.items()}\n",
    "\n",
    "# --- 2. Launch PyMOL headless via pymolPy3 ---\n",
    "\n"
   ]
  },
  {
   "cell_type": "code",
   "execution_count": 5,
   "id": "a5be4e97-5049-4dee-8191-b622bb12fa54",
   "metadata": {},
   "outputs": [
    {
     "name": "stdout",
     "output_type": "stream",
     "text": [
      "PyMOL failed to start, dumping diagnostics...\n",
      "pymol-bundle-2.6.2-0.json\n",
      "conda build: 0 https://conda.anaconda.org/schrodinger/linux-64\n",
      "pymol-web-examples-2.4-1.json\n",
      "conda build: 1 https://conda.anaconda.org/schrodinger/noarch\n",
      "pymol-2.6.2-py312h2dc6bc7_0.json\n",
      "conda build: py312h2dc6bc7_0 https://conda.anaconda.org/schrodinger/linux-64\n",
      "\n",
      "Operating System:\n",
      "Linux-5.4.0-126-generic-x86_64-with-glibc2.27\n",
      "#142~18.04.1-Ubuntu SMP Thu Sep 1 16:25:16 UTC 2022\n",
      "(/home/lukas/anaconda3/envs/chem/lib/python3.12/site-packages/zmq/backend/cython/../../../../.././libstdc++.so.6: version `GLIBCXX_3.4.30' not found (required by /home/lukas/anaconda3/envs/chem/lib/python3.12/site-packages/PyQt5/../../.././libicuuc.so.75))\n",
      "\n",
      "Python:\n",
      "3.12.11 | packaged by Anaconda, Inc. | (main, Jun  5 2025, 13:09:17) [GCC 11.2.0]\n",
      "prefix=/home/lukas/anaconda3/envs/chem\n",
      "executable=/home/lukas/anaconda3/envs/chem/bin/python\n",
      "filesystemencoding=utf-8\n",
      "\n",
      "Qt, Python and PyMOL Environment Variables:\n",
      "LANG=en_US.UTF-8\n",
      "PYDEVD_USE_FRAME_EVAL=NO\n",
      "PYMOL_DATA=/home/lukas/anaconda3/envs/chem/share/pymol/data\n",
      "PYMOL_PATH=/home/lukas/anaconda3/envs/chem/share/pymol\n",
      "PYTHON_PATH=~/install/ase:~/install/ase:\n",
      "QT4_IM_MODULE=xim\n",
      "QT_ACCESSIBILITY=1\n",
      "QT_IM_MODULE=ibus\n",
      "QT_XKB_CONFIG_ROOT=/home/lukas/anaconda3/envs/chem/lib\n",
      "\n",
      "PATH:\n",
      "/usr/local/cuda/bin:~/install/ase/tools:/home/lukas/.local/bin:/home/lukas/bin\n",
      ":/usr/local/cuda/bin:/home/lukas/anaconda3/envs/chem/bin:/home/lukas/anaconda3\n",
      "/condabin:~/install/ase/tools:/usr/local/sbin:/usr/local/bin:/usr/sbin:/usr/bi\n",
      "n:/sbin:/bin:/usr/games:/usr/local/games:/snap/bin\n",
      "\n"
     ]
    },
    {
     "ename": "ImportError",
     "evalue": "/home/lukas/anaconda3/envs/chem/lib/python3.12/site-packages/zmq/backend/cython/../../../../.././libstdc++.so.6: version `GLIBCXX_3.4.30' not found (required by /home/lukas/anaconda3/envs/chem/lib/python3.12/site-packages/pymol/../../../libvtkm_cont-1.8.so.1)",
     "output_type": "error",
     "traceback": [
      "\u001b[31m---------------------------------------------------------------------------\u001b[39m",
      "\u001b[31mImportError\u001b[39m                               Traceback (most recent call last)",
      "\u001b[36mCell\u001b[39m\u001b[36m \u001b[39m\u001b[32mIn[5]\u001b[39m\u001b[32m, line 8\u001b[39m\n\u001b[32m      3\u001b[39m pm = pymolPy3.pymolPy3(\u001b[32m0\u001b[39m)\n\u001b[32m      5\u001b[39m \u001b[38;5;66;03m# --- 3. Load PyDescriptorC* plugin and process each MOL2 ---\u001b[39;00m\n\u001b[32m      6\u001b[39m \n\u001b[32m      7\u001b[39m \u001b[38;5;66;03m# Initialize plugin system and load by name\u001b[39;00m\n\u001b[32m----> \u001b[39m\u001b[32m8\u001b[39m \u001b[38;5;28;01mimport\u001b[39;00m\u001b[38;5;250m \u001b[39m\u001b[34;01mpymol\u001b[39;00m\u001b[34;01m.\u001b[39;00m\u001b[34;01mplugins\u001b[39;00m\n\u001b[32m      9\u001b[39m pymol.plugins.initialize(-\u001b[32m1\u001b[39m)                             \u001b[38;5;66;03m# no GUI init\u001b[39;00m\n\u001b[32m     10\u001b[39m pymol.plugins.plugin_load(\u001b[33m'\u001b[39m\u001b[33mPyDescriptorC*\u001b[39m\u001b[33m'\u001b[39m)               \u001b[38;5;66;03m# \u001b[39;00m\n",
      "\u001b[36mFile \u001b[39m\u001b[32m~/anaconda3/envs/chem/lib/python3.12/site-packages/pymol/__init__.py:620\u001b[39m\n\u001b[32m    617\u001b[39m     _ctypes.LoadLibrary(filename)\n\u001b[32m    619\u001b[39m \u001b[38;5;28;01mtry\u001b[39;00m:\n\u001b[32m--> \u001b[39m\u001b[32m620\u001b[39m     \u001b[38;5;28;01mimport\u001b[39;00m\u001b[38;5;250m \u001b[39m\u001b[34;01mpymol\u001b[39;00m\u001b[34;01m.\u001b[39;00m\u001b[34;01m_cmd\u001b[39;00m\n\u001b[32m    621\u001b[39m \u001b[38;5;28;01mexcept\u001b[39;00m \u001b[38;5;167;01mImportError\u001b[39;00m:\n\u001b[32m    622\u001b[39m     _report_cmd_DLL_problem()\n",
      "\u001b[31mImportError\u001b[39m: /home/lukas/anaconda3/envs/chem/lib/python3.12/site-packages/zmq/backend/cython/../../../../.././libstdc++.so.6: version `GLIBCXX_3.4.30' not found (required by /home/lukas/anaconda3/envs/chem/lib/python3.12/site-packages/pymol/../../../libvtkm_cont-1.8.so.1)"
     ]
    },
    {
     "name": "stdout",
     "output_type": "stream",
     "text": [
      " PyMOL(TM) 2.6.2 - Incentive Product\n",
      " Copyright (C) Schrodinger, LLC\n",
      " \n",
      " This Executable Build integrates and extends Open-Source PyMOL.\n"
     ]
    }
   ],
   "source": [
    "import pymolPy3\n",
    "# 0 → no GUI, headless mode :contentReference[oaicite:6]{index=6}\n",
    "pm = pymolPy3.pymolPy3(0)\n",
    "\n",
    "# --- 3. Load PyDescriptorC* plugin and process each MOL2 ---\n",
    "\n",
    "# Initialize plugin system and load by name\n",
    "import pymol.plugins\n",
    "pymol.plugins.initialize(-1)                             # no GUI init\n",
    "pymol.plugins.plugin_load('PyDescriptorC*')               # \n",
    "\n",
    "def calculate_chiral_descriptors(mol2_path: str, csv_out: str):\n",
    "    \"\"\"\n",
    "    Instruct PyMOL to load the MOL2, run PyDescriptorC*, and save CSV.\n",
    "    \"\"\"\n",
    "    obj_name = os.path.splitext(os.path.basename(mol2_path))[0]\n",
    "    # Load the molecule\n",
    "    pm(f\"load {mol2_path}, {obj_name}\")                    # :contentReference[oaicite:8]{index=8}\n",
    "    # Run the PyDescriptorC* calculation command (plugin-specific)\n",
    "    pm(f\"PyDescriptorC* calculate, object={obj_name}\")      # \n",
    "    # Save the descriptor CSV (plugin emits a default name)\n",
    "    default_csv = f\"{obj_name}_descriptors.csv\"\n",
    "    os.rename(default_csv, csv_out)\n",
    "\n",
    "# Process each enantiomer\n",
    "csv_dir = \"descriptors\"\n",
    "os.makedirs(csv_dir, exist_ok=True)\n",
    "descriptor_dfs = {}\n",
    "for name, mol2 in mol2_paths.items():\n",
    "    csv_path = os.path.join(csv_dir, f\"{name}_desc.csv\")\n",
    "    calculate_chiral_descriptors(mol2, csv_path)\n",
    "    # Read back into pandas\n",
    "    df = pd.read_csv(csv_path)\n",
    "    # Optionally add some RDKit descriptors\n",
    "    mol = Chem.MolFromMol2Block(open(mol2).read())\n",
    "    df[\"MolWt\"] = Descriptors.MolWt(mol)                    # :contentReference[oaicite:10]{index=10}\n",
    "    df[\"LogP\"]   = Descriptors.MolLogP(mol)                  # :contentReference[oaicite:11]{index=11}\n",
    "    descriptor_dfs[name] = df\n",
    "\n",
    "# --- 4. Example usage: inspect first few descriptor rows ---\n",
    "for name, df in descriptor_dfs.items():\n",
    "    print(f\"\\n{name} descriptors:\")\n",
    "    print(df.head().to_string(index=False))\n"
   ]
  },
  {
   "cell_type": "code",
   "execution_count": null,
   "id": "5b432d2b-dd74-4500-b2e8-67379cf88610",
   "metadata": {},
   "outputs": [],
   "source": []
  }
 ],
 "metadata": {
  "kernelspec": {
   "display_name": "Python 3 (ipykernel)",
   "language": "python",
   "name": "python3"
  },
  "language_info": {
   "codemirror_mode": {
    "name": "ipython",
    "version": 3
   },
   "file_extension": ".py",
   "mimetype": "text/x-python",
   "name": "python",
   "nbconvert_exporter": "python",
   "pygments_lexer": "ipython3",
   "version": "3.12.11"
  }
 },
 "nbformat": 4,
 "nbformat_minor": 5
}
