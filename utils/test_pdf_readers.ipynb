{
 "cells": [
  {
   "cell_type": "code",
   "execution_count": 1,
   "id": "00cb3e0b",
   "metadata": {},
   "outputs": [],
   "source": [
    "import pandas as pd"
   ]
  },
  {
   "cell_type": "code",
   "execution_count": 2,
   "id": "19e4f7ae",
   "metadata": {},
   "outputs": [],
   "source": [
    "df1 = pd.DataFrame({\n",
    "    'a': [1, 2, 3, 4, 5],\n",
    "    'b': [2, 2, 3, 1, 2],\n",
    "    'c': [2, 1, 2, 1, 2]\n",
    "})"
   ]
  },
  {
   "cell_type": "code",
   "execution_count": 4,
   "id": "abdef8e9",
   "metadata": {},
   "outputs": [
    {
     "data": {
      "text/html": [
       "<div>\n",
       "<style scoped>\n",
       "    .dataframe tbody tr th:only-of-type {\n",
       "        vertical-align: middle;\n",
       "    }\n",
       "\n",
       "    .dataframe tbody tr th {\n",
       "        vertical-align: top;\n",
       "    }\n",
       "\n",
       "    .dataframe thead th {\n",
       "        text-align: right;\n",
       "    }\n",
       "</style>\n",
       "<table border=\"1\" class=\"dataframe\">\n",
       "  <thead>\n",
       "    <tr style=\"text-align: right;\">\n",
       "      <th></th>\n",
       "      <th>a</th>\n",
       "      <th>b</th>\n",
       "      <th>c</th>\n",
       "    </tr>\n",
       "  </thead>\n",
       "  <tbody>\n",
       "    <tr>\n",
       "      <th>0</th>\n",
       "      <td>1</td>\n",
       "      <td>2</td>\n",
       "      <td>2</td>\n",
       "    </tr>\n",
       "    <tr>\n",
       "      <th>1</th>\n",
       "      <td>2</td>\n",
       "      <td>2</td>\n",
       "      <td>1</td>\n",
       "    </tr>\n",
       "    <tr>\n",
       "      <th>2</th>\n",
       "      <td>3</td>\n",
       "      <td>3</td>\n",
       "      <td>2</td>\n",
       "    </tr>\n",
       "    <tr>\n",
       "      <th>3</th>\n",
       "      <td>4</td>\n",
       "      <td>1</td>\n",
       "      <td>1</td>\n",
       "    </tr>\n",
       "    <tr>\n",
       "      <th>4</th>\n",
       "      <td>5</td>\n",
       "      <td>2</td>\n",
       "      <td>2</td>\n",
       "    </tr>\n",
       "  </tbody>\n",
       "</table>\n",
       "</div>"
      ],
      "text/plain": [
       "   a  b  c\n",
       "0  1  2  2\n",
       "1  2  2  1\n",
       "2  3  3  2\n",
       "3  4  1  1\n",
       "4  5  2  2"
      ]
     },
     "execution_count": 4,
     "metadata": {},
     "output_type": "execute_result"
    }
   ],
   "source": [
    "df1"
   ]
  },
  {
   "cell_type": "code",
   "execution_count": 18,
   "id": "57847c43",
   "metadata": {},
   "outputs": [],
   "source": [
    "dg1 = df1.groupby(['b', 'c']).size().reset_index(name='tao')"
   ]
  },
  {
   "cell_type": "code",
   "execution_count": 19,
   "id": "77794a3c",
   "metadata": {},
   "outputs": [
    {
     "data": {
      "text/html": [
       "<div>\n",
       "<style scoped>\n",
       "    .dataframe tbody tr th:only-of-type {\n",
       "        vertical-align: middle;\n",
       "    }\n",
       "\n",
       "    .dataframe tbody tr th {\n",
       "        vertical-align: top;\n",
       "    }\n",
       "\n",
       "    .dataframe thead th {\n",
       "        text-align: right;\n",
       "    }\n",
       "</style>\n",
       "<table border=\"1\" class=\"dataframe\">\n",
       "  <thead>\n",
       "    <tr style=\"text-align: right;\">\n",
       "      <th></th>\n",
       "      <th>b</th>\n",
       "      <th>c</th>\n",
       "      <th>0</th>\n",
       "    </tr>\n",
       "  </thead>\n",
       "  <tbody>\n",
       "    <tr>\n",
       "      <th>0</th>\n",
       "      <td>1</td>\n",
       "      <td>1</td>\n",
       "      <td>1</td>\n",
       "    </tr>\n",
       "    <tr>\n",
       "      <th>1</th>\n",
       "      <td>2</td>\n",
       "      <td>1</td>\n",
       "      <td>1</td>\n",
       "    </tr>\n",
       "    <tr>\n",
       "      <th>2</th>\n",
       "      <td>2</td>\n",
       "      <td>2</td>\n",
       "      <td>2</td>\n",
       "    </tr>\n",
       "    <tr>\n",
       "      <th>3</th>\n",
       "      <td>3</td>\n",
       "      <td>2</td>\n",
       "      <td>1</td>\n",
       "    </tr>\n",
       "  </tbody>\n",
       "</table>\n",
       "</div>"
      ],
      "text/plain": [
       "   b  c  0\n",
       "0  1  1  1\n",
       "1  2  1  1\n",
       "2  2  2  2\n",
       "3  3  2  1"
      ]
     },
     "execution_count": 19,
     "metadata": {},
     "output_type": "execute_result"
    }
   ],
   "source": [
    "dg1"
   ]
  },
  {
   "cell_type": "code",
   "execution_count": 3,
   "id": "50670034",
   "metadata": {},
   "outputs": [
    {
     "name": "stdout",
     "output_type": "stream",
     "text": [
      "0 0\n",
      "1 0\n",
      "2 0\n",
      "3 0\n",
      "4 0\n",
      "5 0\n",
      "6 0\n",
      "7 0\n",
      "8 0\n",
      "9 0\n",
      "10 0\n",
      "11 0\n",
      "12 0\n",
      "13 0\n",
      "14 0\n",
      "15 0\n",
      "16 0\n",
      "17 0\n"
     ]
    }
   ],
   "source": [
    "import pdfplumber\n",
    "with pdfplumber.open(\"/home/lukas/Documents/bio/drug_agent.pdf\") as pdf:\n",
    "    for i, page in enumerate(pdf.pages):\n",
    "        tables = page.extract_tables()\n",
    "        print(i, len(tables))\n",
    "        for table in tables:\n",
    "            print(table)\n"
   ]
  },
  {
   "cell_type": "code",
   "execution_count": 6,
   "id": "60764a33-523d-48fa-b6ba-788e6860f56a",
   "metadata": {},
   "outputs": [
    {
     "ename": "DeprecationError",
     "evalue": "PdfFileReader is deprecated and was removed in PyPDF2 3.0.0. Use PdfReader instead.",
     "output_type": "error",
     "traceback": [
      "\u001b[0;31m---------------------------------------------------------------------------\u001b[0m",
      "\u001b[0;31mDeprecationError\u001b[0m                          Traceback (most recent call last)",
      "Cell \u001b[0;32mIn[6], line 2\u001b[0m\n\u001b[1;32m      1\u001b[0m \u001b[38;5;28;01mimport\u001b[39;00m \u001b[38;5;21;01mcamelot\u001b[39;00m\n\u001b[0;32m----> 2\u001b[0m tables \u001b[38;5;241m=\u001b[39m camelot\u001b[38;5;241m.\u001b[39mread_pdf(\u001b[38;5;124m\"\u001b[39m\u001b[38;5;124m/home/lukas/Documents/bio/drug_agent.pdf\u001b[39m\u001b[38;5;124m\"\u001b[39m, pages\u001b[38;5;241m=\u001b[39m\u001b[38;5;124m\"\u001b[39m\u001b[38;5;124mall\u001b[39m\u001b[38;5;124m\"\u001b[39m)\n\u001b[1;32m      3\u001b[0m \u001b[38;5;28;01mfor\u001b[39;00m table \u001b[38;5;129;01min\u001b[39;00m tables:\n\u001b[1;32m      4\u001b[0m     \u001b[38;5;28mprint\u001b[39m(table\u001b[38;5;241m.\u001b[39mdf)\n",
      "File \u001b[0;32m~/anaconda3/envs/scrape/lib/python3.12/site-packages/camelot/io.py:111\u001b[0m, in \u001b[0;36mread_pdf\u001b[0;34m(filepath, pages, password, flavor, suppress_stdout, layout_kwargs, **kwargs)\u001b[0m\n\u001b[1;32m    108\u001b[0m     warnings\u001b[38;5;241m.\u001b[39msimplefilter(\u001b[38;5;124m\"\u001b[39m\u001b[38;5;124mignore\u001b[39m\u001b[38;5;124m\"\u001b[39m)\n\u001b[1;32m    110\u001b[0m validate_input(kwargs, flavor\u001b[38;5;241m=\u001b[39mflavor)\n\u001b[0;32m--> 111\u001b[0m p \u001b[38;5;241m=\u001b[39m PDFHandler(filepath, pages\u001b[38;5;241m=\u001b[39mpages, password\u001b[38;5;241m=\u001b[39mpassword)\n\u001b[1;32m    112\u001b[0m kwargs \u001b[38;5;241m=\u001b[39m remove_extra(kwargs, flavor\u001b[38;5;241m=\u001b[39mflavor)\n\u001b[1;32m    113\u001b[0m tables \u001b[38;5;241m=\u001b[39m p\u001b[38;5;241m.\u001b[39mparse(\n\u001b[1;32m    114\u001b[0m     flavor\u001b[38;5;241m=\u001b[39mflavor,\n\u001b[1;32m    115\u001b[0m     suppress_stdout\u001b[38;5;241m=\u001b[39msuppress_stdout,\n\u001b[1;32m    116\u001b[0m     layout_kwargs\u001b[38;5;241m=\u001b[39mlayout_kwargs,\n\u001b[1;32m    117\u001b[0m     \u001b[38;5;241m*\u001b[39m\u001b[38;5;241m*\u001b[39mkwargs\n\u001b[1;32m    118\u001b[0m )\n",
      "File \u001b[0;32m~/anaconda3/envs/scrape/lib/python3.12/site-packages/camelot/handlers.py:50\u001b[0m, in \u001b[0;36mPDFHandler.__init__\u001b[0;34m(self, filepath, pages, password)\u001b[0m\n\u001b[1;32m     48\u001b[0m     \u001b[38;5;28;01mif\u001b[39;00m sys\u001b[38;5;241m.\u001b[39mversion_info[\u001b[38;5;241m0\u001b[39m] \u001b[38;5;241m<\u001b[39m \u001b[38;5;241m3\u001b[39m:\n\u001b[1;32m     49\u001b[0m         \u001b[38;5;28mself\u001b[39m\u001b[38;5;241m.\u001b[39mpassword \u001b[38;5;241m=\u001b[39m \u001b[38;5;28mself\u001b[39m\u001b[38;5;241m.\u001b[39mpassword\u001b[38;5;241m.\u001b[39mencode(\u001b[38;5;124m\"\u001b[39m\u001b[38;5;124mascii\u001b[39m\u001b[38;5;124m\"\u001b[39m)\n\u001b[0;32m---> 50\u001b[0m \u001b[38;5;28mself\u001b[39m\u001b[38;5;241m.\u001b[39mpages \u001b[38;5;241m=\u001b[39m \u001b[38;5;28mself\u001b[39m\u001b[38;5;241m.\u001b[39m_get_pages(\u001b[38;5;28mself\u001b[39m\u001b[38;5;241m.\u001b[39mfilepath, pages)\n",
      "File \u001b[0;32m~/anaconda3/envs/scrape/lib/python3.12/site-packages/camelot/handlers.py:74\u001b[0m, in \u001b[0;36mPDFHandler._get_pages\u001b[0;34m(self, filepath, pages)\u001b[0m\n\u001b[1;32m     72\u001b[0m \u001b[38;5;28;01melse\u001b[39;00m:\n\u001b[1;32m     73\u001b[0m     instream \u001b[38;5;241m=\u001b[39m \u001b[38;5;28mopen\u001b[39m(filepath, \u001b[38;5;124m\"\u001b[39m\u001b[38;5;124mrb\u001b[39m\u001b[38;5;124m\"\u001b[39m)\n\u001b[0;32m---> 74\u001b[0m     infile \u001b[38;5;241m=\u001b[39m PdfFileReader(instream, strict\u001b[38;5;241m=\u001b[39m\u001b[38;5;28;01mFalse\u001b[39;00m)\n\u001b[1;32m     75\u001b[0m     \u001b[38;5;28;01mif\u001b[39;00m infile\u001b[38;5;241m.\u001b[39misEncrypted:\n\u001b[1;32m     76\u001b[0m         infile\u001b[38;5;241m.\u001b[39mdecrypt(\u001b[38;5;28mself\u001b[39m\u001b[38;5;241m.\u001b[39mpassword)\n",
      "File \u001b[0;32m~/anaconda3/envs/scrape/lib/python3.12/site-packages/PyPDF2/_reader.py:1974\u001b[0m, in \u001b[0;36mPdfFileReader.__init__\u001b[0;34m(self, *args, **kwargs)\u001b[0m\n\u001b[1;32m   1973\u001b[0m \u001b[38;5;28;01mdef\u001b[39;00m \u001b[38;5;21m__init__\u001b[39m(\u001b[38;5;28mself\u001b[39m, \u001b[38;5;241m*\u001b[39margs: Any, \u001b[38;5;241m*\u001b[39m\u001b[38;5;241m*\u001b[39mkwargs: Any) \u001b[38;5;241m-\u001b[39m\u001b[38;5;241m>\u001b[39m \u001b[38;5;28;01mNone\u001b[39;00m:\n\u001b[0;32m-> 1974\u001b[0m     deprecation_with_replacement(\u001b[38;5;124m\"\u001b[39m\u001b[38;5;124mPdfFileReader\u001b[39m\u001b[38;5;124m\"\u001b[39m, \u001b[38;5;124m\"\u001b[39m\u001b[38;5;124mPdfReader\u001b[39m\u001b[38;5;124m\"\u001b[39m, \u001b[38;5;124m\"\u001b[39m\u001b[38;5;124m3.0.0\u001b[39m\u001b[38;5;124m\"\u001b[39m)\n\u001b[1;32m   1975\u001b[0m     \u001b[38;5;28;01mif\u001b[39;00m \u001b[38;5;124m\"\u001b[39m\u001b[38;5;124mstrict\u001b[39m\u001b[38;5;124m\"\u001b[39m \u001b[38;5;129;01mnot\u001b[39;00m \u001b[38;5;129;01min\u001b[39;00m kwargs \u001b[38;5;129;01mand\u001b[39;00m \u001b[38;5;28mlen\u001b[39m(args) \u001b[38;5;241m<\u001b[39m \u001b[38;5;241m2\u001b[39m:\n\u001b[1;32m   1976\u001b[0m         kwargs[\u001b[38;5;124m\"\u001b[39m\u001b[38;5;124mstrict\u001b[39m\u001b[38;5;124m\"\u001b[39m] \u001b[38;5;241m=\u001b[39m \u001b[38;5;28;01mTrue\u001b[39;00m  \u001b[38;5;66;03m# maintain the default\u001b[39;00m\n",
      "File \u001b[0;32m~/anaconda3/envs/scrape/lib/python3.12/site-packages/PyPDF2/_utils.py:369\u001b[0m, in \u001b[0;36mdeprecation_with_replacement\u001b[0;34m(old_name, new_name, removed_in)\u001b[0m\n\u001b[1;32m    363\u001b[0m \u001b[38;5;28;01mdef\u001b[39;00m \u001b[38;5;21mdeprecation_with_replacement\u001b[39m(\n\u001b[1;32m    364\u001b[0m     old_name: \u001b[38;5;28mstr\u001b[39m, new_name: \u001b[38;5;28mstr\u001b[39m, removed_in: \u001b[38;5;28mstr\u001b[39m \u001b[38;5;241m=\u001b[39m \u001b[38;5;124m\"\u001b[39m\u001b[38;5;124m3.0.0\u001b[39m\u001b[38;5;124m\"\u001b[39m\n\u001b[1;32m    365\u001b[0m ) \u001b[38;5;241m-\u001b[39m\u001b[38;5;241m>\u001b[39m \u001b[38;5;28;01mNone\u001b[39;00m:\n\u001b[1;32m    366\u001b[0m \u001b[38;5;250m    \u001b[39m\u001b[38;5;124;03m\"\"\"\u001b[39;00m\n\u001b[1;32m    367\u001b[0m \u001b[38;5;124;03m    Raise an exception that a feature was already removed, but has a replacement.\u001b[39;00m\n\u001b[1;32m    368\u001b[0m \u001b[38;5;124;03m    \"\"\"\u001b[39;00m\n\u001b[0;32m--> 369\u001b[0m     deprecation(DEPR_MSG_HAPPENED\u001b[38;5;241m.\u001b[39mformat(old_name, removed_in, new_name))\n",
      "File \u001b[0;32m~/anaconda3/envs/scrape/lib/python3.12/site-packages/PyPDF2/_utils.py:351\u001b[0m, in \u001b[0;36mdeprecation\u001b[0;34m(msg)\u001b[0m\n\u001b[1;32m    350\u001b[0m \u001b[38;5;28;01mdef\u001b[39;00m \u001b[38;5;21mdeprecation\u001b[39m(msg: \u001b[38;5;28mstr\u001b[39m) \u001b[38;5;241m-\u001b[39m\u001b[38;5;241m>\u001b[39m \u001b[38;5;28;01mNone\u001b[39;00m:\n\u001b[0;32m--> 351\u001b[0m     \u001b[38;5;28;01mraise\u001b[39;00m DeprecationError(msg)\n",
      "\u001b[0;31mDeprecationError\u001b[0m: PdfFileReader is deprecated and was removed in PyPDF2 3.0.0. Use PdfReader instead."
     ]
    }
   ],
   "source": [
    "import camelot\n",
    "tables = camelot.read_pdf(\"/home/lukas/Documents/bio/drug_agent.pdf\", pages=\"all\")\n",
    "for table in tables:\n",
    "    print(table.df)"
   ]
  },
  {
   "cell_type": "code",
   "execution_count": 5,
   "id": "1c8032c9-5d56-48e4-b849-76f0d6df85b4",
   "metadata": {},
   "outputs": [
    {
     "ename": "DeprecationError",
     "evalue": "PdfFileReader is deprecated and was removed in PyPDF2 3.0.0. Use PdfReader instead.",
     "output_type": "error",
     "traceback": [
      "\u001b[0;31m---------------------------------------------------------------------------\u001b[0m",
      "\u001b[0;31mDeprecationError\u001b[0m                          Traceback (most recent call last)",
      "Cell \u001b[0;32mIn[5], line 3\u001b[0m\n\u001b[1;32m      1\u001b[0m \u001b[38;5;28;01mimport\u001b[39;00m \u001b[38;5;21;01mcamelot\u001b[39;00m\n\u001b[0;32m----> 3\u001b[0m tables \u001b[38;5;241m=\u001b[39m camelot\u001b[38;5;241m.\u001b[39mread_pdf(\u001b[38;5;124m\"\u001b[39m\u001b[38;5;124m/home/lukas/Documents/bio/drug_agent.pdf\u001b[39m\u001b[38;5;124m\"\u001b[39m, pages\u001b[38;5;241m=\u001b[39m\u001b[38;5;124m'\u001b[39m\u001b[38;5;124mall\u001b[39m\u001b[38;5;124m'\u001b[39m) \n\u001b[1;32m      4\u001b[0m \u001b[38;5;66;03m# Extract tables from page 1\u001b[39;00m\n\u001b[1;32m      6\u001b[0m \u001b[38;5;28;01mfor\u001b[39;00m table \u001b[38;5;129;01min\u001b[39;00m tables:\n",
      "File \u001b[0;32m~/anaconda3/envs/scrape/lib/python3.12/site-packages/camelot/io.py:111\u001b[0m, in \u001b[0;36mread_pdf\u001b[0;34m(filepath, pages, password, flavor, suppress_stdout, layout_kwargs, **kwargs)\u001b[0m\n\u001b[1;32m    108\u001b[0m     warnings\u001b[38;5;241m.\u001b[39msimplefilter(\u001b[38;5;124m\"\u001b[39m\u001b[38;5;124mignore\u001b[39m\u001b[38;5;124m\"\u001b[39m)\n\u001b[1;32m    110\u001b[0m validate_input(kwargs, flavor\u001b[38;5;241m=\u001b[39mflavor)\n\u001b[0;32m--> 111\u001b[0m p \u001b[38;5;241m=\u001b[39m PDFHandler(filepath, pages\u001b[38;5;241m=\u001b[39mpages, password\u001b[38;5;241m=\u001b[39mpassword)\n\u001b[1;32m    112\u001b[0m kwargs \u001b[38;5;241m=\u001b[39m remove_extra(kwargs, flavor\u001b[38;5;241m=\u001b[39mflavor)\n\u001b[1;32m    113\u001b[0m tables \u001b[38;5;241m=\u001b[39m p\u001b[38;5;241m.\u001b[39mparse(\n\u001b[1;32m    114\u001b[0m     flavor\u001b[38;5;241m=\u001b[39mflavor,\n\u001b[1;32m    115\u001b[0m     suppress_stdout\u001b[38;5;241m=\u001b[39msuppress_stdout,\n\u001b[1;32m    116\u001b[0m     layout_kwargs\u001b[38;5;241m=\u001b[39mlayout_kwargs,\n\u001b[1;32m    117\u001b[0m     \u001b[38;5;241m*\u001b[39m\u001b[38;5;241m*\u001b[39mkwargs\n\u001b[1;32m    118\u001b[0m )\n",
      "File \u001b[0;32m~/anaconda3/envs/scrape/lib/python3.12/site-packages/camelot/handlers.py:50\u001b[0m, in \u001b[0;36mPDFHandler.__init__\u001b[0;34m(self, filepath, pages, password)\u001b[0m\n\u001b[1;32m     48\u001b[0m     \u001b[38;5;28;01mif\u001b[39;00m sys\u001b[38;5;241m.\u001b[39mversion_info[\u001b[38;5;241m0\u001b[39m] \u001b[38;5;241m<\u001b[39m \u001b[38;5;241m3\u001b[39m:\n\u001b[1;32m     49\u001b[0m         \u001b[38;5;28mself\u001b[39m\u001b[38;5;241m.\u001b[39mpassword \u001b[38;5;241m=\u001b[39m \u001b[38;5;28mself\u001b[39m\u001b[38;5;241m.\u001b[39mpassword\u001b[38;5;241m.\u001b[39mencode(\u001b[38;5;124m\"\u001b[39m\u001b[38;5;124mascii\u001b[39m\u001b[38;5;124m\"\u001b[39m)\n\u001b[0;32m---> 50\u001b[0m \u001b[38;5;28mself\u001b[39m\u001b[38;5;241m.\u001b[39mpages \u001b[38;5;241m=\u001b[39m \u001b[38;5;28mself\u001b[39m\u001b[38;5;241m.\u001b[39m_get_pages(\u001b[38;5;28mself\u001b[39m\u001b[38;5;241m.\u001b[39mfilepath, pages)\n",
      "File \u001b[0;32m~/anaconda3/envs/scrape/lib/python3.12/site-packages/camelot/handlers.py:74\u001b[0m, in \u001b[0;36mPDFHandler._get_pages\u001b[0;34m(self, filepath, pages)\u001b[0m\n\u001b[1;32m     72\u001b[0m \u001b[38;5;28;01melse\u001b[39;00m:\n\u001b[1;32m     73\u001b[0m     instream \u001b[38;5;241m=\u001b[39m \u001b[38;5;28mopen\u001b[39m(filepath, \u001b[38;5;124m\"\u001b[39m\u001b[38;5;124mrb\u001b[39m\u001b[38;5;124m\"\u001b[39m)\n\u001b[0;32m---> 74\u001b[0m     infile \u001b[38;5;241m=\u001b[39m PdfFileReader(instream, strict\u001b[38;5;241m=\u001b[39m\u001b[38;5;28;01mFalse\u001b[39;00m)\n\u001b[1;32m     75\u001b[0m     \u001b[38;5;28;01mif\u001b[39;00m infile\u001b[38;5;241m.\u001b[39misEncrypted:\n\u001b[1;32m     76\u001b[0m         infile\u001b[38;5;241m.\u001b[39mdecrypt(\u001b[38;5;28mself\u001b[39m\u001b[38;5;241m.\u001b[39mpassword)\n",
      "File \u001b[0;32m~/anaconda3/envs/scrape/lib/python3.12/site-packages/PyPDF2/_reader.py:1974\u001b[0m, in \u001b[0;36mPdfFileReader.__init__\u001b[0;34m(self, *args, **kwargs)\u001b[0m\n\u001b[1;32m   1973\u001b[0m \u001b[38;5;28;01mdef\u001b[39;00m \u001b[38;5;21m__init__\u001b[39m(\u001b[38;5;28mself\u001b[39m, \u001b[38;5;241m*\u001b[39margs: Any, \u001b[38;5;241m*\u001b[39m\u001b[38;5;241m*\u001b[39mkwargs: Any) \u001b[38;5;241m-\u001b[39m\u001b[38;5;241m>\u001b[39m \u001b[38;5;28;01mNone\u001b[39;00m:\n\u001b[0;32m-> 1974\u001b[0m     deprecation_with_replacement(\u001b[38;5;124m\"\u001b[39m\u001b[38;5;124mPdfFileReader\u001b[39m\u001b[38;5;124m\"\u001b[39m, \u001b[38;5;124m\"\u001b[39m\u001b[38;5;124mPdfReader\u001b[39m\u001b[38;5;124m\"\u001b[39m, \u001b[38;5;124m\"\u001b[39m\u001b[38;5;124m3.0.0\u001b[39m\u001b[38;5;124m\"\u001b[39m)\n\u001b[1;32m   1975\u001b[0m     \u001b[38;5;28;01mif\u001b[39;00m \u001b[38;5;124m\"\u001b[39m\u001b[38;5;124mstrict\u001b[39m\u001b[38;5;124m\"\u001b[39m \u001b[38;5;129;01mnot\u001b[39;00m \u001b[38;5;129;01min\u001b[39;00m kwargs \u001b[38;5;129;01mand\u001b[39;00m \u001b[38;5;28mlen\u001b[39m(args) \u001b[38;5;241m<\u001b[39m \u001b[38;5;241m2\u001b[39m:\n\u001b[1;32m   1976\u001b[0m         kwargs[\u001b[38;5;124m\"\u001b[39m\u001b[38;5;124mstrict\u001b[39m\u001b[38;5;124m\"\u001b[39m] \u001b[38;5;241m=\u001b[39m \u001b[38;5;28;01mTrue\u001b[39;00m  \u001b[38;5;66;03m# maintain the default\u001b[39;00m\n",
      "File \u001b[0;32m~/anaconda3/envs/scrape/lib/python3.12/site-packages/PyPDF2/_utils.py:369\u001b[0m, in \u001b[0;36mdeprecation_with_replacement\u001b[0;34m(old_name, new_name, removed_in)\u001b[0m\n\u001b[1;32m    363\u001b[0m \u001b[38;5;28;01mdef\u001b[39;00m \u001b[38;5;21mdeprecation_with_replacement\u001b[39m(\n\u001b[1;32m    364\u001b[0m     old_name: \u001b[38;5;28mstr\u001b[39m, new_name: \u001b[38;5;28mstr\u001b[39m, removed_in: \u001b[38;5;28mstr\u001b[39m \u001b[38;5;241m=\u001b[39m \u001b[38;5;124m\"\u001b[39m\u001b[38;5;124m3.0.0\u001b[39m\u001b[38;5;124m\"\u001b[39m\n\u001b[1;32m    365\u001b[0m ) \u001b[38;5;241m-\u001b[39m\u001b[38;5;241m>\u001b[39m \u001b[38;5;28;01mNone\u001b[39;00m:\n\u001b[1;32m    366\u001b[0m \u001b[38;5;250m    \u001b[39m\u001b[38;5;124;03m\"\"\"\u001b[39;00m\n\u001b[1;32m    367\u001b[0m \u001b[38;5;124;03m    Raise an exception that a feature was already removed, but has a replacement.\u001b[39;00m\n\u001b[1;32m    368\u001b[0m \u001b[38;5;124;03m    \"\"\"\u001b[39;00m\n\u001b[0;32m--> 369\u001b[0m     deprecation(DEPR_MSG_HAPPENED\u001b[38;5;241m.\u001b[39mformat(old_name, removed_in, new_name))\n",
      "File \u001b[0;32m~/anaconda3/envs/scrape/lib/python3.12/site-packages/PyPDF2/_utils.py:351\u001b[0m, in \u001b[0;36mdeprecation\u001b[0;34m(msg)\u001b[0m\n\u001b[1;32m    350\u001b[0m \u001b[38;5;28;01mdef\u001b[39;00m \u001b[38;5;21mdeprecation\u001b[39m(msg: \u001b[38;5;28mstr\u001b[39m) \u001b[38;5;241m-\u001b[39m\u001b[38;5;241m>\u001b[39m \u001b[38;5;28;01mNone\u001b[39;00m:\n\u001b[0;32m--> 351\u001b[0m     \u001b[38;5;28;01mraise\u001b[39;00m DeprecationError(msg)\n",
      "\u001b[0;31mDeprecationError\u001b[0m: PdfFileReader is deprecated and was removed in PyPDF2 3.0.0. Use PdfReader instead."
     ]
    }
   ],
   "source": [
    "import camelot\n",
    "\n",
    "tables = camelot.read_pdf(\"/home/lukas/Documents/bio/drug_agent.pdf\", pages='all') \n",
    "# Extract tables from page 1\n",
    "\n",
    "for table in tables:\n",
    "    print(table.df) \n",
    "# Print the tables as pandas DataFrames"
   ]
  },
  {
   "cell_type": "code",
   "execution_count": 8,
   "id": "3e7966e3-59f0-4b9a-8f1d-803064246de2",
   "metadata": {},
   "outputs": [
    {
     "ename": "AttributeError",
     "evalue": "'Page' object has no attribute 'get_tables'",
     "output_type": "error",
     "traceback": [
      "\u001b[0;31m---------------------------------------------------------------------------\u001b[0m",
      "\u001b[0;31mAttributeError\u001b[0m                            Traceback (most recent call last)",
      "Cell \u001b[0;32mIn[8], line 5\u001b[0m\n\u001b[1;32m      3\u001b[0m doc \u001b[38;5;241m=\u001b[39m fitz\u001b[38;5;241m.\u001b[39mopen(\u001b[38;5;124m\"\u001b[39m\u001b[38;5;124m/home/lukas/Documents/bio/drug_agent.pdf\u001b[39m\u001b[38;5;124m\"\u001b[39m) \n\u001b[1;32m      4\u001b[0m \u001b[38;5;28;01mfor\u001b[39;00m page \u001b[38;5;129;01min\u001b[39;00m doc:\n\u001b[0;32m----> 5\u001b[0m     tables \u001b[38;5;241m=\u001b[39m page\u001b[38;5;241m.\u001b[39mget_tables() \n\u001b[1;32m      6\u001b[0m     \u001b[38;5;28;01mfor\u001b[39;00m table \u001b[38;5;129;01min\u001b[39;00m tables:\n\u001b[1;32m      7\u001b[0m         \u001b[38;5;28mprint\u001b[39m(table)\n",
      "\u001b[0;31mAttributeError\u001b[0m: 'Page' object has no attribute 'get_tables'"
     ]
    }
   ],
   "source": [
    "import fitz\n",
    "\n",
    "doc = fitz.open(\"/home/lukas/Documents/bio/drug_agent.pdf\") \n",
    "for page in doc:\n",
    "    tables = page.get_tables() \n",
    "    for table in tables:\n",
    "        print(table) \n",
    "# Print the extracted tables"
   ]
  },
  {
   "cell_type": "code",
   "execution_count": 10,
   "id": "db292349-6e2c-4548-ba26-c1cc79503ba4",
   "metadata": {},
   "outputs": [
    {
     "name": "stderr",
     "output_type": "stream",
     "text": [
      "IOPub data rate exceeded.\n",
      "The Jupyter server will temporarily stop sending output\n",
      "to the client in order to avoid crashing it.\n",
      "To change this limit, set the config variable\n",
      "`--ServerApp.iopub_data_rate_limit`.\n",
      "\n",
      "Current values:\n",
      "ServerApp.iopub_data_rate_limit=1000000.0 (bytes/sec)\n",
      "ServerApp.rate_limit_window=3.0 (secs)\n",
      "\n"
     ]
    }
   ],
   "source": [
    "import fitz\n",
    "pdf = fitz.open(\"/home/lukas/Documents/bio/drug_agent.pdf\") \n",
    "for page in pdf:\n",
    "    text = page.get_text(\"dict\")\n",
    "    print(text)"
   ]
  },
  {
   "cell_type": "code",
   "execution_count": 25,
   "id": "e46de78b-873b-4d15-aebb-3410bdb5e962",
   "metadata": {},
   "outputs": [
    {
     "name": "stderr",
     "output_type": "stream",
     "text": [
      "Got stderr: Dec 21, 2024 7:16:37 PM org.apache.pdfbox.pdmodel.font.PDSimpleFont toUnicode\n",
      "WARNING: No Unicode mapping for braceleftbigg (26) in font KDQCMC+CMEX10\n",
      "Dec 21, 2024 7:16:37 PM org.apache.pdfbox.pdmodel.font.PDSimpleFont toUnicode\n",
      "WARNING: No Unicode mapping for summationtext (80) in font KDQCMC+CMEX10\n",
      "Dec 21, 2024 7:16:37 PM org.apache.pdfbox.pdmodel.font.PDSimpleFont toUnicode\n",
      "WARNING: No Unicode mapping for parenleftbig (0) in font KDQCMC+CMEX10\n",
      "Dec 21, 2024 7:16:37 PM org.apache.pdfbox.pdmodel.font.PDSimpleFont toUnicode\n",
      "WARNING: No Unicode mapping for parenrightbig (1) in font KDQCMC+CMEX10\n",
      "\n"
     ]
    }
   ],
   "source": [
    "from tabula import read_pdf\n",
    "tables = read_pdf(\"/home/lukas/Documents/bio/drug_agent.pdf\", pages=\"all\", multiple_tables=True)"
   ]
  },
  {
   "cell_type": "code",
   "execution_count": 27,
   "id": "c1b1cffe-d9a5-4773-96a3-2e5cba905f75",
   "metadata": {},
   "outputs": [
    {
     "data": {
      "text/plain": [
       "'|    | Metric                  | DrugAgent      | GPT-4            | w.o. AI Agent   | w.o. KG Agent   | w.o. Search Agent   |\\n|---:|:------------------------|:---------------|:-----------------|:----------------|:----------------|:--------------------|\\n|  0 | MSE (↓)                 | 1.836*         | 13.420           | 52.349          | 8.119           | 1.960               |\\n|  1 | nan                     | (0.007)        | (0.042)          | (0.051)         | (0.023)         | (0.000)             |\\n|  2 | MAPE (↓)                | 0.134*         | 0.320            | 0.808           | 0.312           | 0.138               |\\n|  3 | nan                     | (0.000)        | (0.000)          | (0.001)         | (0.001)         | (0.000)             |\\n|  4 | MAE (↓)                 | 1.081*         | 3.350            | 7.095           | 2.706           | 1.124               |\\n|  5 | nan                     | (0.003)        | (0.000)          | (0.005)         | (0.005)         | (0.000)             |\\n|  6 | R2 (↑)                  | 0.431*         | -0.460           | -15.228         | -1.517          | 0.393               |\\n|  7 | nan                     | (0.002)        | (0.001)          | (0.016)         | (0.007)         | (0.000)             |\\n|  8 | Explained Variance (↑)  | 0.577*         | -0.460           | 0.378           | 0.211           | 0.572               |\\n|  9 | nan                     | (0.003)        | (0.001)          | (0.006)         | (0.002)         | (0.000)             |\\n| 10 | Max Error (↓)           | 2.809*         | 6.490            | 9.639           | 4.395           | 2.902               |\\n| 11 | nan                     | (0.014)        | (0.120)          | (0.006)         | (0.014)         | (0.000)             |\\n| 12 | Correlation (↑)         | 0.761*         | 0.110            | 0.708           | 0.507           | 0.758               |\\n| 13 | nan                     | (0.002)        | (0.003)          | (0.011)         | (0.001)         | (0.000)             |\\n| 14 | Runtime (↓)             | ≈5.000s        | ≈0.297s          | -               | -               | -                   |\\n| 15 | # OpenAI API tokens (↓) | ≈2000-3000     | ≈100             | -               | -               | -                   |\\n| 16 | cost of tokens (↓)      | ≈$0.006-$0.027 | ≈$0.0014-$0.0020 | -               | -               | -                   |'"
      ]
     },
     "execution_count": 27,
     "metadata": {},
     "output_type": "execute_result"
    }
   ],
   "source": [
    "import pandas as pd\n",
    "tables[1].to_markdown()"
   ]
  },
  {
   "cell_type": "code",
   "execution_count": 20,
   "id": "82a52ecc-1b02-4ba6-9b16-b5cb84602ff3",
   "metadata": {},
   "outputs": [
    {
     "data": {
      "text/html": [
       "<div>\n",
       "<style scoped>\n",
       "    .dataframe tbody tr th:only-of-type {\n",
       "        vertical-align: middle;\n",
       "    }\n",
       "\n",
       "    .dataframe tbody tr th {\n",
       "        vertical-align: top;\n",
       "    }\n",
       "\n",
       "    .dataframe thead th {\n",
       "        text-align: right;\n",
       "    }\n",
       "</style>\n",
       "<table border=\"1\" class=\"dataframe\">\n",
       "  <thead>\n",
       "    <tr style=\"text-align: right;\">\n",
       "      <th></th>\n",
       "      <th>Metric</th>\n",
       "      <th>DrugAgent</th>\n",
       "      <th>GPT-4</th>\n",
       "      <th>w.o. AI Agent</th>\n",
       "      <th>w.o. KG Agent</th>\n",
       "      <th>w.o. Search Agent</th>\n",
       "    </tr>\n",
       "  </thead>\n",
       "  <tbody>\n",
       "    <tr>\n",
       "      <th>0</th>\n",
       "      <td>MSE (↓)</td>\n",
       "      <td>1.836*</td>\n",
       "      <td>13.420</td>\n",
       "      <td>52.349</td>\n",
       "      <td>8.119</td>\n",
       "      <td>1.960</td>\n",
       "    </tr>\n",
       "    <tr>\n",
       "      <th>1</th>\n",
       "      <td>NaN</td>\n",
       "      <td>(0.007)</td>\n",
       "      <td>(0.042)</td>\n",
       "      <td>(0.051)</td>\n",
       "      <td>(0.023)</td>\n",
       "      <td>(0.000)</td>\n",
       "    </tr>\n",
       "    <tr>\n",
       "      <th>2</th>\n",
       "      <td>MAPE (↓)</td>\n",
       "      <td>0.134*</td>\n",
       "      <td>0.320</td>\n",
       "      <td>0.808</td>\n",
       "      <td>0.312</td>\n",
       "      <td>0.138</td>\n",
       "    </tr>\n",
       "    <tr>\n",
       "      <th>3</th>\n",
       "      <td>NaN</td>\n",
       "      <td>(0.000)</td>\n",
       "      <td>(0.000)</td>\n",
       "      <td>(0.001)</td>\n",
       "      <td>(0.001)</td>\n",
       "      <td>(0.000)</td>\n",
       "    </tr>\n",
       "    <tr>\n",
       "      <th>4</th>\n",
       "      <td>MAE (↓)</td>\n",
       "      <td>1.081*</td>\n",
       "      <td>3.350</td>\n",
       "      <td>7.095</td>\n",
       "      <td>2.706</td>\n",
       "      <td>1.124</td>\n",
       "    </tr>\n",
       "    <tr>\n",
       "      <th>5</th>\n",
       "      <td>NaN</td>\n",
       "      <td>(0.003)</td>\n",
       "      <td>(0.000)</td>\n",
       "      <td>(0.005)</td>\n",
       "      <td>(0.005)</td>\n",
       "      <td>(0.000)</td>\n",
       "    </tr>\n",
       "    <tr>\n",
       "      <th>6</th>\n",
       "      <td>R2 (↑)</td>\n",
       "      <td>0.431*</td>\n",
       "      <td>-0.460</td>\n",
       "      <td>-15.228</td>\n",
       "      <td>-1.517</td>\n",
       "      <td>0.393</td>\n",
       "    </tr>\n",
       "    <tr>\n",
       "      <th>7</th>\n",
       "      <td>NaN</td>\n",
       "      <td>(0.002)</td>\n",
       "      <td>(0.001)</td>\n",
       "      <td>(0.016)</td>\n",
       "      <td>(0.007)</td>\n",
       "      <td>(0.000)</td>\n",
       "    </tr>\n",
       "    <tr>\n",
       "      <th>8</th>\n",
       "      <td>Explained Variance (↑)</td>\n",
       "      <td>0.577*</td>\n",
       "      <td>-0.460</td>\n",
       "      <td>0.378</td>\n",
       "      <td>0.211</td>\n",
       "      <td>0.572</td>\n",
       "    </tr>\n",
       "    <tr>\n",
       "      <th>9</th>\n",
       "      <td>NaN</td>\n",
       "      <td>(0.003)</td>\n",
       "      <td>(0.001)</td>\n",
       "      <td>(0.006)</td>\n",
       "      <td>(0.002)</td>\n",
       "      <td>(0.000)</td>\n",
       "    </tr>\n",
       "    <tr>\n",
       "      <th>10</th>\n",
       "      <td>Max Error (↓)</td>\n",
       "      <td>2.809*</td>\n",
       "      <td>6.490</td>\n",
       "      <td>9.639</td>\n",
       "      <td>4.395</td>\n",
       "      <td>2.902</td>\n",
       "    </tr>\n",
       "    <tr>\n",
       "      <th>11</th>\n",
       "      <td>NaN</td>\n",
       "      <td>(0.014)</td>\n",
       "      <td>(0.120)</td>\n",
       "      <td>(0.006)</td>\n",
       "      <td>(0.014)</td>\n",
       "      <td>(0.000)</td>\n",
       "    </tr>\n",
       "    <tr>\n",
       "      <th>12</th>\n",
       "      <td>Correlation (↑)</td>\n",
       "      <td>0.761*</td>\n",
       "      <td>0.110</td>\n",
       "      <td>0.708</td>\n",
       "      <td>0.507</td>\n",
       "      <td>0.758</td>\n",
       "    </tr>\n",
       "    <tr>\n",
       "      <th>13</th>\n",
       "      <td>NaN</td>\n",
       "      <td>(0.002)</td>\n",
       "      <td>(0.003)</td>\n",
       "      <td>(0.011)</td>\n",
       "      <td>(0.001)</td>\n",
       "      <td>(0.000)</td>\n",
       "    </tr>\n",
       "    <tr>\n",
       "      <th>14</th>\n",
       "      <td>Runtime (↓)</td>\n",
       "      <td>≈5.000s</td>\n",
       "      <td>≈0.297s</td>\n",
       "      <td>-</td>\n",
       "      <td>-</td>\n",
       "      <td>-</td>\n",
       "    </tr>\n",
       "    <tr>\n",
       "      <th>15</th>\n",
       "      <td># OpenAI API tokens (↓)</td>\n",
       "      <td>≈2000-3000</td>\n",
       "      <td>≈100</td>\n",
       "      <td>-</td>\n",
       "      <td>-</td>\n",
       "      <td>-</td>\n",
       "    </tr>\n",
       "    <tr>\n",
       "      <th>16</th>\n",
       "      <td>cost of tokens (↓)</td>\n",
       "      <td>≈$0.006-$0.027</td>\n",
       "      <td>≈$0.0014-$0.0020</td>\n",
       "      <td>-</td>\n",
       "      <td>-</td>\n",
       "      <td>-</td>\n",
       "    </tr>\n",
       "  </tbody>\n",
       "</table>\n",
       "</div>"
      ],
      "text/plain": [
       "                     Metric       DrugAgent             GPT-4 w.o. AI Agent  \\\n",
       "0                   MSE (↓)          1.836*            13.420        52.349   \n",
       "1                       NaN         (0.007)           (0.042)       (0.051)   \n",
       "2                  MAPE (↓)          0.134*             0.320         0.808   \n",
       "3                       NaN         (0.000)           (0.000)       (0.001)   \n",
       "4                   MAE (↓)          1.081*             3.350         7.095   \n",
       "5                       NaN         (0.003)           (0.000)       (0.005)   \n",
       "6                    R2 (↑)          0.431*            -0.460       -15.228   \n",
       "7                       NaN         (0.002)           (0.001)       (0.016)   \n",
       "8    Explained Variance (↑)          0.577*            -0.460         0.378   \n",
       "9                       NaN         (0.003)           (0.001)       (0.006)   \n",
       "10            Max Error (↓)          2.809*             6.490         9.639   \n",
       "11                      NaN         (0.014)           (0.120)       (0.006)   \n",
       "12          Correlation (↑)          0.761*             0.110         0.708   \n",
       "13                      NaN         (0.002)           (0.003)       (0.011)   \n",
       "14              Runtime (↓)         ≈5.000s           ≈0.297s             -   \n",
       "15  # OpenAI API tokens (↓)      ≈2000-3000              ≈100             -   \n",
       "16       cost of tokens (↓)  ≈$0.006-$0.027  ≈$0.0014-$0.0020             -   \n",
       "\n",
       "   w.o. KG Agent w.o. Search Agent  \n",
       "0          8.119             1.960  \n",
       "1        (0.023)           (0.000)  \n",
       "2          0.312             0.138  \n",
       "3        (0.001)           (0.000)  \n",
       "4          2.706             1.124  \n",
       "5        (0.005)           (0.000)  \n",
       "6         -1.517             0.393  \n",
       "7        (0.007)           (0.000)  \n",
       "8          0.211             0.572  \n",
       "9        (0.002)           (0.000)  \n",
       "10         4.395             2.902  \n",
       "11       (0.014)           (0.000)  \n",
       "12         0.507             0.758  \n",
       "13       (0.001)           (0.000)  \n",
       "14             -                 -  \n",
       "15             -                 -  \n",
       "16             -                 -  "
      ]
     },
     "execution_count": 20,
     "metadata": {},
     "output_type": "execute_result"
    }
   ],
   "source": [
    "df[1]"
   ]
  },
  {
   "cell_type": "code",
   "execution_count": 29,
   "id": "9a1b8773-99b2-4aa2-b7e7-3ca9cbe8ecc7",
   "metadata": {},
   "outputs": [
    {
     "data": {
      "text/plain": [
       "[0, 17, 7, 1]"
      ]
     },
     "execution_count": 29,
     "metadata": {},
     "output_type": "execute_result"
    }
   ],
   "source": [
    "[len(d) for d in tables]"
   ]
  },
  {
   "cell_type": "code",
   "execution_count": 33,
   "id": "9c6092c5-760d-4713-b070-525125cd6932",
   "metadata": {},
   "outputs": [
    {
     "name": "stderr",
     "output_type": "stream",
     "text": [
      "/tmp/ipykernel_25963/4246265838.py:61: PydanticDeprecatedSince20: The `json` method is deprecated; use `model_dump_json` instead. Deprecated in Pydantic V2.0 to be removed in V3.0. See Pydantic V2 Migration Guide at https://errors.pydantic.dev/2.10/migration/\n",
      "  print(processed_data.json(indent=4))\n"
     ]
    },
    {
     "ename": "TypeError",
     "evalue": "`dumps_kwargs` keyword arguments are no longer supported.",
     "output_type": "error",
     "traceback": [
      "\u001b[0;31m---------------------------------------------------------------------------\u001b[0m",
      "\u001b[0;31mTypeError\u001b[0m                                 Traceback (most recent call last)",
      "Cell \u001b[0;32mIn[33], line 61\u001b[0m\n\u001b[1;32m     53\u001b[0m raw_data \u001b[38;5;241m=\u001b[39m {\n\u001b[1;32m     54\u001b[0m     \u001b[38;5;124m\"\u001b[39m\u001b[38;5;124mtitle\u001b[39m\u001b[38;5;124m\"\u001b[39m: \u001b[38;5;124m\"\u001b[39m\u001b[38;5;124mSample Article\u001b[39m\u001b[38;5;124m\"\u001b[39m,\n\u001b[1;32m     55\u001b[0m     \u001b[38;5;124m\"\u001b[39m\u001b[38;5;124mdescription\u001b[39m\u001b[38;5;124m\"\u001b[39m: \u001b[38;5;124m\"\u001b[39m\u001b[38;5;124mThis is a sample article used to demonstrate the process of cleaning and analysis.\u001b[39m\u001b[38;5;124m\"\u001b[39m,\n\u001b[1;32m     56\u001b[0m     \u001b[38;5;124m\"\u001b[39m\u001b[38;5;124murl\u001b[39m\u001b[38;5;124m\"\u001b[39m: \u001b[38;5;124m\"\u001b[39m\u001b[38;5;124mhttps://example.com/sample-article\u001b[39m\u001b[38;5;124m\"\u001b[39m,\n\u001b[1;32m     57\u001b[0m     \u001b[38;5;124m\"\u001b[39m\u001b[38;5;124mpublished_date\u001b[39m\u001b[38;5;124m\"\u001b[39m: \u001b[38;5;124m\"\u001b[39m\u001b[38;5;124m2024-12-24\u001b[39m\u001b[38;5;124m\"\u001b[39m\n\u001b[1;32m     58\u001b[0m }\n\u001b[1;32m     60\u001b[0m processed_data \u001b[38;5;241m=\u001b[39m process_data(raw_data)\n\u001b[0;32m---> 61\u001b[0m \u001b[38;5;28mprint\u001b[39m(processed_data\u001b[38;5;241m.\u001b[39mjson(indent\u001b[38;5;241m=\u001b[39m\u001b[38;5;241m4\u001b[39m))\n",
      "File \u001b[0;32m~/anaconda3/envs/scrape/lib/python3.12/site-packages/pydantic/main.py:1205\u001b[0m, in \u001b[0;36mBaseModel.json\u001b[0;34m(self, include, exclude, by_alias, exclude_unset, exclude_defaults, exclude_none, encoder, models_as_dict, **dumps_kwargs)\u001b[0m\n\u001b[1;32m   1203\u001b[0m     \u001b[38;5;28;01mraise\u001b[39;00m \u001b[38;5;167;01mTypeError\u001b[39;00m(\u001b[38;5;124m'\u001b[39m\u001b[38;5;124mThe `models_as_dict` argument is no longer supported; use a model serializer instead.\u001b[39m\u001b[38;5;124m'\u001b[39m)\n\u001b[1;32m   1204\u001b[0m \u001b[38;5;28;01mif\u001b[39;00m dumps_kwargs:\n\u001b[0;32m-> 1205\u001b[0m     \u001b[38;5;28;01mraise\u001b[39;00m \u001b[38;5;167;01mTypeError\u001b[39;00m(\u001b[38;5;124m'\u001b[39m\u001b[38;5;124m`dumps_kwargs` keyword arguments are no longer supported.\u001b[39m\u001b[38;5;124m'\u001b[39m)\n\u001b[1;32m   1206\u001b[0m \u001b[38;5;28;01mreturn\u001b[39;00m \u001b[38;5;28mself\u001b[39m\u001b[38;5;241m.\u001b[39mmodel_dump_json(\n\u001b[1;32m   1207\u001b[0m     include\u001b[38;5;241m=\u001b[39minclude,\n\u001b[1;32m   1208\u001b[0m     exclude\u001b[38;5;241m=\u001b[39mexclude,\n\u001b[0;32m   (...)\u001b[0m\n\u001b[1;32m   1212\u001b[0m     exclude_none\u001b[38;5;241m=\u001b[39mexclude_none,\n\u001b[1;32m   1213\u001b[0m )\n",
      "\u001b[0;31mTypeError\u001b[0m: `dumps_kwargs` keyword arguments are no longer supported."
     ]
    }
   ],
   "source": [
    "from pydantic import BaseModel, Field, ValidationError\n",
    "from typing import List, Dict, Any, Optional\n",
    "\n",
    "# Define Pydantic models for structured output\n",
    "class CleanedData(BaseModel):\n",
    "    title: str = Field(..., description=\"Title of the content\")\n",
    "    description: Optional[str] = Field(None, description=\"Brief description or summary\")\n",
    "    url: str = Field(..., description=\"URL of the original content\")\n",
    "    published_date: Optional[str] = Field(None, description=\"Publication date in YYYY-MM-DD format\")\n",
    "\n",
    "class AnalysisResult(BaseModel):\n",
    "    word_count: int = Field(..., description=\"Total number of words in the content\")\n",
    "    sentiment: str = Field(..., description=\"Sentiment analysis result (e.g., Positive, Neutral, Negative)\")\n",
    "\n",
    "class ProcessedData(BaseModel):\n",
    "    cleaned_data: CleanedData\n",
    "    analysis_result: AnalysisResult\n",
    "\n",
    "# Example functions for analyzing, cleaning, and organizing data\n",
    "def clean_data(raw_data: Dict[str, Any]) -> CleanedData:\n",
    "    \"\"\"Cleans and validates raw scraped data.\"\"\"\n",
    "    try:\n",
    "        cleaned = CleanedData(\n",
    "            title=raw_data.get(\"title\", \"Unknown Title\"),\n",
    "            description=raw_data.get(\"description\"),\n",
    "            url=raw_data[\"url\"],\n",
    "            published_date=raw_data.get(\"published_date\"),\n",
    "        )\n",
    "        return cleaned\n",
    "    except ValidationError as e:\n",
    "        print(\"Validation Error in cleaning data:\", e.json())\n",
    "        raise\n",
    "\n",
    "def analyze_data(cleaned_data: CleanedData) -> AnalysisResult:\n",
    "    \"\"\"Performs analysis on the cleaned data.\"\"\"\n",
    "    # Example analysis: Word count and simple sentiment analysis\n",
    "    word_count = len(cleaned_data.description.split()) if cleaned_data.description else 0\n",
    "    sentiment = \"Neutral\"  # Placeholder for sentiment analysis logic\n",
    "\n",
    "    return AnalysisResult(\n",
    "        word_count=word_count,\n",
    "        sentiment=sentiment\n",
    "    )\n",
    "\n",
    "def process_data(raw_data: Dict[str, Any]) -> ProcessedData:\n",
    "    \"\"\"Processes raw data to structured and analyzed output.\"\"\"\n",
    "    cleaned = clean_data(raw_data)\n",
    "    analysis = analyze_data(cleaned)\n",
    "    return ProcessedData(cleaned_data=cleaned, analysis_result=analysis)\n",
    "\n",
    "# Example usage\n",
    "if __name__ == \"__main__\":\n",
    "    raw_data = {\n",
    "        \"title\": \"Sample Article\",\n",
    "        \"description\": \"This is a sample article used to demonstrate the process of cleaning and analysis.\",\n",
    "        \"url\": \"https://example.com/sample-article\",\n",
    "        \"published_date\": \"2024-12-24\"\n",
    "    }\n",
    "\n",
    "    processed_data = process_data(raw_data)\n",
    "    print(processed_data.json(indent=4))\n"
   ]
  },
  {
   "cell_type": "code",
   "execution_count": null,
   "id": "8a9c7e15-391d-45cc-bf0a-babdfa8e4908",
   "metadata": {},
   "outputs": [],
   "source": []
  }
 ],
 "metadata": {
  "kernelspec": {
   "display_name": "Python 3 (ipykernel)",
   "language": "python",
   "name": "python3"
  },
  "language_info": {
   "codemirror_mode": {
    "name": "ipython",
    "version": 3
   },
   "file_extension": ".py",
   "mimetype": "text/x-python",
   "name": "python",
   "nbconvert_exporter": "python",
   "pygments_lexer": "ipython3",
   "version": "3.12.7"
  }
 },
 "nbformat": 4,
 "nbformat_minor": 5
}
